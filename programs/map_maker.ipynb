{
 "cells": [
  {
   "cell_type": "markdown",
   "metadata": {},
   "source": [
    "### Map Making Code\n",
    "\n",
    "#### Overview\n",
    "- This code can be used to make multiple maps at once that plot longitude/latitude points and shade in land areas (aka choropleth maps). \n",
    "- Do not touch any other programs accept this one.\n",
    "- See [ENTER VIDEO PATH HERE] for an instructional video on how use this program BEFORE you run this program.\n",
    "- Email claire.erba@nera.com with any issues you are experiencing or other features you want built out.\n",
    "\n",
    "#### Running the Jupyter Notebook\n",
    "- Begin by running the first cell below by clicking in the cell and then pressing Shift and then Enter. This imports the helper programs.\n",
    "- After the first cell runs, press Shift and then Enter in the second cell. This will make HTML versions of your map.\n",
    "- After the second cell runs, follow the instructions before the third cell. Once you have done that, press Shift and then Enter in the third cell. "
   ]
  },
  {
   "cell_type": "code",
   "execution_count": 1,
   "metadata": {},
   "outputs": [
    {
     "name": "stdout",
     "output_type": "stream",
     "text": [
      "Requirement already satisfied: folium in c:\\users\\claire.erba\\anaconda3\\lib\\site-packages (0.12.1)\n",
      "Requirement already satisfied: branca>=0.3.0 in c:\\users\\claire.erba\\anaconda3\\lib\\site-packages (from folium) (0.4.2)\n",
      "Requirement already satisfied: jinja2>=2.9 in c:\\users\\claire.erba\\anaconda3\\lib\\site-packages (from folium) (2.11.2)\n",
      "Requirement already satisfied: numpy in c:\\users\\claire.erba\\anaconda3\\lib\\site-packages (from folium) (1.19.2)\n",
      "Requirement already satisfied: requests in c:\\users\\claire.erba\\anaconda3\\lib\\site-packages (from folium) (2.24.0)\n",
      "Requirement already satisfied: MarkupSafe>=0.23 in c:\\users\\claire.erba\\anaconda3\\lib\\site-packages (from jinja2>=2.9->folium) (1.1.1)\n",
      "Requirement already satisfied: chardet<4,>=3.0.2 in c:\\users\\claire.erba\\anaconda3\\lib\\site-packages (from requests->folium) (3.0.4)\n",
      "Requirement already satisfied: urllib3!=1.25.0,!=1.25.1,<1.26,>=1.21.1 in c:\\users\\claire.erba\\anaconda3\\lib\\site-packages (from requests->folium) (1.25.11)\n",
      "Requirement already satisfied: certifi>=2017.4.17 in c:\\users\\claire.erba\\anaconda3\\lib\\site-packages (from requests->folium) (2020.6.20)\n",
      "Requirement already satisfied: idna<3,>=2.5 in c:\\users\\claire.erba\\anaconda3\\lib\\site-packages (from requests->folium) (2.10)\n",
      "Requirement already satisfied: selenium in c:\\users\\claire.erba\\anaconda3\\lib\\site-packages (3.141.0)\n",
      "Requirement already satisfied: urllib3 in c:\\users\\claire.erba\\anaconda3\\lib\\site-packages (from selenium) (1.25.11)\n",
      "Map making code has been run. Enter your Starts_Map data file, below.\n"
     ]
    }
   ],
   "source": [
    "# run map making underlying code\n",
    "%run ./helper_programs/make_my_maps.ipynb\n",
    "%run ./helper_programs/web_to_pdf.ipynb\n",
    "print(\"Map making code has been run. Enter your Starts_Map data file, below.\")"
   ]
  },
  {
   "cell_type": "code",
   "execution_count": 4,
   "metadata": {},
   "outputs": [
    {
     "name": "stdout",
     "output_type": "stream",
     "text": [
      "No radii buffers provided. If you entered Radii values, make sure they are in the correct format.\n",
      "5\n",
      "5\n",
      "No radii buffers provided. If you entered Radii values, make sure they are in the correct format.\n",
      "5\n",
      "5\n",
      "5\n",
      "5\n",
      "Your HTML maps have been made. Read below for instructions on how to turn your HTML maps in to PDFs.\n"
     ]
    }
   ],
   "source": [
    "# input the relative path with respect to your program or the absolute path of your Start_Maps file.\n",
    "m = make_maps(map_starts=r'../input/Start_Maps.xlsx')\n",
    "print(\"Your HTML maps have been made. Read below for instructions on how to turn your HTML maps in to PDFs.\")"
   ]
  },
  {
   "cell_type": "markdown",
   "metadata": {},
   "source": [
    "### Convert HTML maps to PDF maps instructions\n",
    "\n",
    "1. Figure out which version of Chrome you have. \n",
    "    - Click on the Menu icon in the upper right corner of the Chrome screen.\n",
    "    - Click on Help, and then About Google Chrome.\n",
    "    - Your Chrome browser version number can be found here.\n",
    "2. Navigate to this site: https://chromedriver.storage.googleapis.com/index.html and click the folder whose name matches your version of Chrome. Download the chrome driver for Windows. Save chromedriver.exe in the main folium directory.\n",
    "3. Open Chrome and click print. This is in the drop down menu with the three dots of a new Chrome tab. Set the print orientation to Landscape and paper size to Legal. Uncheck the \"Headers and Footers\" box. Do not print anything. Exit the Chrome tab.\n",
    "4. Replace \n",
    "    - [ENTER ABSOLUTE PATH TO HTML OUTPUT DIRECTORY] with the absolute path to where your HTML maps are saved.\n",
    "    - [ENTER ABSOLUTE PATH TO PDF OUTPUT DIRECTORY] with the absolute path to where your want your PDF maps to be saved.\n",
    "5. Press Shift + Enter in the cell tp get your PDF maps."
   ]
  },
  {
   "cell_type": "code",
   "execution_count": 5,
   "metadata": {},
   "outputs": [
    {
     "name": "stdout",
     "output_type": "stream",
     "text": [
      "Your PDF maps have been created!\n"
     ]
    }
   ],
   "source": [
    "htmlpage_to_pdf(r'[ENTER ABSOLUTE PATH TO HTML OUTPUT DIRECTORY]', r'[ENTER ABSOLUTE PATH TO PDF OUTPUT DIRECTORY]', r'../chromedriver.exe')\n",
    "print(\"Your PDF maps have been created!\")"
   ]
  },
  {
   "cell_type": "code",
   "execution_count": null,
   "metadata": {},
   "outputs": [],
   "source": []
  }
 ],
 "metadata": {
  "kernelspec": {
   "display_name": "Python 3",
   "language": "python",
   "name": "python3"
  },
  "language_info": {
   "codemirror_mode": {
    "name": "ipython",
    "version": 3
   },
   "file_extension": ".py",
   "mimetype": "text/x-python",
   "name": "python",
   "nbconvert_exporter": "python",
   "pygments_lexer": "ipython3",
   "version": "3.8.5"
  }
 },
 "nbformat": 4,
 "nbformat_minor": 4
}
