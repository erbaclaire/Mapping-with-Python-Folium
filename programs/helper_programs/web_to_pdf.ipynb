{
 "cells": [
  {
   "cell_type": "markdown",
   "metadata": {},
   "source": [
    "### This code converts your HTML maps to PDFs"
   ]
  },
  {
   "cell_type": "code",
   "execution_count": 1,
   "metadata": {},
   "outputs": [
    {
     "name": "stdout",
     "output_type": "stream",
     "text": [
      "Requirement already satisfied: selenium in c:\\users\\claire.erba\\anaconda3\\lib\\site-packages (3.141.0)\n",
      "Requirement already satisfied: urllib3 in c:\\users\\claire.erba\\anaconda3\\lib\\site-packages (from selenium) (1.25.11)\n"
     ]
    }
   ],
   "source": [
    "# import packages\n",
    "! pip3 install selenium\n",
    "import json\n",
    "import time\n",
    "import os\n",
    "from selenium import webdriver"
   ]
  },
  {
   "cell_type": "code",
   "execution_count": 2,
   "metadata": {},
   "outputs": [],
   "source": [
    "def htmlpage_to_pdf(html_directory, pdf_directory, selenium_driver_path):\n",
    "    appState = {\n",
    "        \"recentDestinations\": [\n",
    "            {\n",
    "                \"id\": \"Save as PDF\",\n",
    "                \"origin\": \"local\",\n",
    "                \"account\": \"\"\n",
    "            }\n",
    "        ],\n",
    "        \"selectedDestinationId\": \"Save as PDF\",\n",
    "        \"version\": 2,\n",
    "        \"isHeaderFooterEnabled\": False\n",
    "    }\n",
    "\n",
    "    profile = {'printing.print_preview_sticky_settings.appState': json.dumps(appState),\n",
    "           'savefile.default_directory': pdf_directory}\n",
    "\n",
    "    chrome_options = webdriver.ChromeOptions()\n",
    "    chrome_options.add_experimental_option('prefs', profile)\n",
    "    chrome_options.add_argument('--kiosk-printing')\n",
    "\n",
    "    driver = webdriver.Chrome(selenium_driver_path,options=chrome_options)\n",
    "    for map in os.listdir(html_directory):\n",
    "        if map.endswith(\".html\"):\n",
    "            driver.get(os.path.join(html_directory, map))\n",
    "            time.sleep(10)\n",
    "            driver.execute_script('window.print();')"
   ]
  },
  {
   "cell_type": "code",
   "execution_count": null,
   "metadata": {},
   "outputs": [],
   "source": []
  }
 ],
 "metadata": {
  "kernelspec": {
   "display_name": "Python 3",
   "language": "python",
   "name": "python3"
  },
  "language_info": {
   "codemirror_mode": {
    "name": "ipython",
    "version": 3
   },
   "file_extension": ".py",
   "mimetype": "text/x-python",
   "name": "python",
   "nbconvert_exporter": "python",
   "pygments_lexer": "ipython3",
   "version": "3.8.5"
  }
 },
 "nbformat": 4,
 "nbformat_minor": 4
}
